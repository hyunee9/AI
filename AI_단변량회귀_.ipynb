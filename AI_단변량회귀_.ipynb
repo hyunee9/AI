{
  "nbformat": 4,
  "nbformat_minor": 0,
  "metadata": {
    "colab": {
      "provenance": [],
      "mount_file_id": "1Xme8MjarW9BMIaMTig6OoGcs24mFkpfD",
      "authorship_tag": "ABX9TyNzPJp7fu3Vg/FqPkd7FGa8",
      "include_colab_link": true
    },
    "kernelspec": {
      "name": "python3",
      "display_name": "Python 3"
    },
    "language_info": {
      "name": "python"
    }
  },
  "cells": [
    {
      "cell_type": "markdown",
      "metadata": {
        "id": "view-in-github",
        "colab_type": "text"
      },
      "source": [
        "<a href=\"https://colab.research.google.com/github/hyunee9/AI/blob/main/AI_%EB%8B%A8%EB%B3%80%EB%9F%89%ED%9A%8C%EA%B7%80_.ipynb\" target=\"_parent\"><img src=\"https://colab.research.google.com/assets/colab-badge.svg\" alt=\"Open In Colab\"/></a>"
      ]
    },
    {
      "cell_type": "markdown",
      "source": [
        "# 만드려는 인공지능 모델 : 슛을 몇 개 시도하면 몇 개 성공하는지 알고 싶다.\n",
        "# 1단계 : ML model 준비"
      ],
      "metadata": {
        "id": "xBnS7V78sMkc"
      }
    },
    {
      "cell_type": "markdown",
      "source": [
        "# 1. import library"
      ],
      "metadata": {
        "id": "e1Z7wmFcgs7B"
      }
    },
    {
      "cell_type": "code",
      "source": [
        "#numpy, padas, drive\n",
        "import numpy as np\n",
        "import pandas as pd #csv파일 로드할 때 필요.\n",
        "from google.colab import drive"
      ],
      "metadata": {
        "id": "Ds7JeyW7WW37"
      },
      "execution_count": null,
      "outputs": []
    },
    {
      "cell_type": "markdown",
      "source": [
        "# 2. mount drive"
      ],
      "metadata": {
        "id": "4JUboBz_g70P"
      }
    },
    {
      "cell_type": "code",
      "source": [
        "drive.mount('/smuai2024')"
      ],
      "metadata": {
        "id": "xcURTxt5g9lL"
      },
      "execution_count": null,
      "outputs": []
    },
    {
      "cell_type": "markdown",
      "source": [
        "# 3. upload file"
      ],
      "metadata": {
        "id": "UGfN1b2Kg_XP"
      }
    },
    {
      "cell_type": "code",
      "source": [
        "from google.colab import files\n",
        "files.upload() #읽어들일 파일을 선택할 수 있음"
      ],
      "metadata": {
        "id": "jWUl2ouHhBYz"
      },
      "execution_count": null,
      "outputs": []
    },
    {
      "cell_type": "markdown",
      "source": [
        "# 4 read csv file"
      ],
      "metadata": {
        "id": "ksFSE-y7hDAK"
      }
    },
    {
      "cell_type": "code",
      "source": [
        "#csv파일을 읽었으면 그 파일을 실제 프로그램에서 쓸 수 있는 형태로 데이터를 변환해야한다 = pandas\n",
        "nbastat = pd.read_csv('nbastat2022.csv')\n",
        "print(nbastat)"
      ],
      "metadata": {
        "id": "DYThOW5ChE83"
      },
      "execution_count": null,
      "outputs": []
    },
    {
      "cell_type": "markdown",
      "source": [
        "# 5. 행 수 count (=읽어들인 데이터가 몇 개인지 보는 것. )"
      ],
      "metadata": {
        "id": "xfRbisqIhT1R"
      }
    },
    {
      "cell_type": "code",
      "source": [
        "m = len(nbastat) #m : 데이터의 수. sample의 수\n",
        "print(m)"
      ],
      "metadata": {
        "id": "4Nv8kGDYhVoj"
      },
      "execution_count": null,
      "outputs": []
    },
    {
      "cell_type": "markdown",
      "source": [
        "#6. nbastat에서 의미있는 column을 선택 (FGA, FGM) = feature selection(특징추출)"
      ],
      "metadata": {
        "id": "fDH2sjaThXLC"
      }
    },
    {
      "cell_type": "code",
      "source": [
        "#FGA : 몇 개의 슛을 던지는지 field goal attampt\n",
        "#FGM : 몇 개의 슛을 성공하는지 field goal made\n",
        "#nbastat의 많은 column들 중에서 이 값들만 추출해서 사용\n",
        "X = nbastat[['FGA']]\n",
        "Y = nbastat[['FGM']]\n",
        "print(X)\n",
        "print(Y)\n",
        "print(X.shape)"
      ],
      "metadata": {
        "id": "Po_Td5EEhZM1"
      },
      "execution_count": null,
      "outputs": []
    },
    {
      "cell_type": "markdown",
      "source": [
        "#7. 결측값 처리 (결측값 = 원치 않는 값, 오류가 있는 값들을 0으로 처리한다.)"
      ],
      "metadata": {
        "id": "MfpP4BFJha9K"
      }
    },
    {
      "cell_type": "code",
      "source": [
        "#모든 데이터에는 결측값이 있다고 의심해도 된다.\n",
        "\n",
        "#pandas에서 결측값을 해소하는 함수 = fillna (=fill not available)\n",
        "X = X.fillna(0)\n",
        "Y = Y.fillna(0)\n",
        "type(X)"
      ],
      "metadata": {
        "id": "JsG2lRIOhcfN"
      },
      "execution_count": null,
      "outputs": []
    },
    {
      "cell_type": "markdown",
      "source": [
        "#8. pandas의 dataframe에서 np의 array로 변환. (배열로 변환)"
      ],
      "metadata": {
        "id": "jEduwoMjhegb"
      }
    },
    {
      "cell_type": "code",
      "source": [
        "#X와 Y는 padas에서 제공하는 데이터형식임\n",
        "#따라서 이 값을 numpy에서는 사용하지 못함\n",
        "# X와 Y를 numpy에서 쓸 수 있는 형태로 바꿔줘야함. array()를 이용해서\n",
        "#이렇게 바꿔주면 type이 np.ndarray로 바뀜.\n",
        "\n",
        "X = (np.array(X)).reshape(m,1)\n",
        "Y = (np.array(Y)).reshape(m,1)\n",
        "print(X)\n",
        "type(X)"
      ],
      "metadata": {
        "id": "XPibS10ihgVt"
      },
      "execution_count": null,
      "outputs": []
    },
    {
      "cell_type": "markdown",
      "source": [
        "#9. 그려보기 : 데이터를 잘 읽어들였는지 확인하기 위해서"
      ],
      "metadata": {
        "id": "RJqR7rRMhkMY"
      }
    },
    {
      "cell_type": "code",
      "source": [
        "import matplotlib.pyplot as plt #파이썬에서 데이터를 그려볼 때 사용하는 라이브러리\n",
        "plt.plot(X, Y, '.b') #X와 Y를 파란색으로 그려달라\n",
        "plt.xlabel(\"FGA\")\n",
        "plt.ylabel(\"FGM\")\n",
        "\n",
        "\n",
        "#결과 : 선형적으로 증가하고 있는 데이터. 직선의 식을 세워서 데이터를 설명하는 인공지능 모델을 만들 수 있을 것.\n",
        "#인공지능 모델 = 직선의 식(선형회귀 식)\n",
        "\n",
        "\n",
        "#직선의 식을 세우고, 훈련을 시켜보자.\n",
        "#훈련을 시키기 위해서는 목적함수를 잘 알아야한다.\n",
        "#목적 함수를 최소화하는 세타를 찾는 것이 우리의 목적이다.\n"
      ],
      "metadata": {
        "colab": {
          "base_uri": "https://localhost:8080/",
          "height": 468
        },
        "id": "A2E7mscThmxy",
        "outputId": "3e475079-a85f-4ba2-8bc9-bcc0327ea2a2"
      },
      "execution_count": null,
      "outputs": [
        {
          "output_type": "execute_result",
          "data": {
            "text/plain": [
              "Text(0, 0.5, 'FGM')"
            ]
          },
          "metadata": {},
          "execution_count": 5
        },
        {
          "output_type": "display_data",
          "data": {
            "text/plain": [
              "<Figure size 640x480 with 1 Axes>"
            ],
            "image/png": "[encoded data removed]"
          },
          "metadata": {}
        }
      ]
    },
    {
      "cell_type": "markdown",
      "source": [
        "# 2단계 : ML model 훈련 (경사하강법 이용)"
      ],
      "metadata": {
        "id": "jJzyWHx-ht76"
      }
    },
    {
      "cell_type": "markdown",
      "source": [
        "#### ML model의 훈련 목표 : 손실 함수의 값을 최소화하는 theta를 찾는 것."
      ],
      "metadata": {
        "id": "K-9dl9LoiMHJ"
      }
    },
    {
      "cell_type": "markdown",
      "source": [
        "# 10. 준비"
      ],
      "metadata": {
        "id": "xInpunn5h2MR"
      }
    },
    {
      "cell_type": "code",
      "source": [
        "# 학습률(=얼마나 빨리 학습할건지) 설정, 몇 번 훈련 진행할 건지 설정. 세타, 세타의 그레디언트를 초기화해준다.\n",
        "\n",
        "learning_rate = 0.0001\n",
        "\n",
        "# 훈련 횟수 : epochs\n",
        "n_iter = 200"
      ],
      "metadata": {
        "id": "PkiHO9Z9h46_"
      },
      "execution_count": null,
      "outputs": []
    },
    {
      "cell_type": "markdown",
      "source": [
        "# 11. 초기화"
      ],
      "metadata": {
        "id": "XjNz4UCph_cQ"
      }
    },
    {
      "cell_type": "code",
      "source": [
        "# theta와 theta의 미분인 gradient를 초기화 --> 0으로 초기화\n",
        "theta = np.zeros((2,1))\n",
        "gradients = np.zeros((2,1))"
      ],
      "metadata": {
        "id": "G6GT8XEgiBBu"
      },
      "execution_count": null,
      "outputs": []
    },
    {
      "cell_type": "markdown",
      "source": [
        "# 12. 변수 설정"
      ],
      "metadata": {
        "id": "NUNOzDlniCXg"
      }
    },
    {
      "cell_type": "code",
      "source": [
        "# 변수로 x0 와 xb 이용\n",
        "# 1로만 채워져있는 x0와 X를 결합해서 xb를 만들겠다.\n",
        "#xb = (1, X)\n",
        "x0 = np.ones((m,1))\n",
        "xb = np.c_[x0, X]  #x0와 X를 열 방향으로 결합. (m,1)과 (m,1)을 열 방향으로 결합하여 (m,2)가 됨.\n",
        "\n",
        "print(xb.shape)"
      ],
      "metadata": {
        "id": "C5TIPN6diEAF"
      },
      "execution_count": null,
      "outputs": []
    },
    {
      "cell_type": "markdown",
      "source": [
        "# 13. 훈련"
      ],
      "metadata": {
        "id": "8HEgsHYOiHDQ"
      }
    },
    {
      "cell_type": "code",
      "source": [
        "# 1) xb * theta를 해준다. xb.dot(theta)  (249, 2) * (2, 1) = (249, 1)\n",
        "# 2) xb * theta - Y를 해준다. xb.dot(theta) - Y --> (249, 1) - (249, 1) = (249, 1)\n",
        "# 3) (xb * theta - Y)*xb를 해준다.(249, 1) * (249, 2) 계산 못함.\n",
        "# xb를 transpose 해줌 (2, 249) * (249, 1)\n",
        "for i in range(n_iter):\n",
        "  gradients = (1.0/m) * xb.T.dot(xb.dot(theta) - Y)\n",
        "  theta = theta - learning_rate * gradients"
      ],
      "metadata": {
        "id": "FWuw2MB9iIU1",
        "colab": {
          "base_uri": "https://localhost:8080/"
        },
        "outputId": "2e243924-cf31-4c19-feaa-71493eca0bae"
      },
      "execution_count": null,
      "outputs": [
        {
          "output_type": "error",
          "ename": "NameError",
          "evalue": "name 'n_iter' is not defined",
          "traceback": [
            "\u001b[0;31m---------------------------------------------------------------------------\u001b[0m",
            "\u001b[0;31mNameError\u001b[0m                                 Traceback (most recent call last)",
            "\u001b[0;32m<ipython-input-1-51b1ef2c70e5>\u001b[0m in \u001b[0;36m<cell line: 5>\u001b[0;34m()\u001b[0m\n\u001b[1;32m      3\u001b[0m \u001b[0;31m# 3) (xb * theta - Y)*xb를 해준다.(249, 1) * (249, 2) 계산 못함.\u001b[0m\u001b[0;34m\u001b[0m\u001b[0;34m\u001b[0m\u001b[0m\n\u001b[1;32m      4\u001b[0m \u001b[0;31m# xb를 transpose 해줌 (2, 249) * (249, 1)\u001b[0m\u001b[0;34m\u001b[0m\u001b[0;34m\u001b[0m\u001b[0m\n\u001b[0;32m----> 5\u001b[0;31m \u001b[0;32mfor\u001b[0m \u001b[0mi\u001b[0m \u001b[0;32min\u001b[0m \u001b[0mrange\u001b[0m\u001b[0;34m(\u001b[0m\u001b[0mn_iter\u001b[0m\u001b[0;34m)\u001b[0m\u001b[0;34m:\u001b[0m\u001b[0;34m\u001b[0m\u001b[0;34m\u001b[0m\u001b[0m\n\u001b[0m\u001b[1;32m      6\u001b[0m   \u001b[0mgradients\u001b[0m \u001b[0;34m=\u001b[0m \u001b[0;34m(\u001b[0m\u001b[0;36m1.0\u001b[0m\u001b[0;34m/\u001b[0m\u001b[0mm\u001b[0m\u001b[0;34m)\u001b[0m \u001b[0;34m*\u001b[0m \u001b[0mxb\u001b[0m\u001b[0;34m.\u001b[0m\u001b[0mT\u001b[0m\u001b[0;34m.\u001b[0m\u001b[0mdot\u001b[0m\u001b[0;34m(\u001b[0m\u001b[0mxb\u001b[0m\u001b[0;34m.\u001b[0m\u001b[0mdot\u001b[0m\u001b[0;34m(\u001b[0m\u001b[0mtheta\u001b[0m\u001b[0;34m)\u001b[0m \u001b[0;34m-\u001b[0m \u001b[0mY\u001b[0m\u001b[0;34m)\u001b[0m\u001b[0;34m\u001b[0m\u001b[0;34m\u001b[0m\u001b[0m\n\u001b[1;32m      7\u001b[0m   \u001b[0mtheta\u001b[0m \u001b[0;34m=\u001b[0m \u001b[0mtheta\u001b[0m \u001b[0;34m-\u001b[0m \u001b[0mlearning_rate\u001b[0m \u001b[0;34m*\u001b[0m \u001b[0mgradients\u001b[0m\u001b[0;34m\u001b[0m\u001b[0;34m\u001b[0m\u001b[0m\n",
            "\u001b[0;31mNameError\u001b[0m: name 'n_iter' is not defined"
          ]
        }
      ]
    },
    {
      "cell_type": "code",
      "source": [
        "#결과\n",
        "print(theta)"
      ],
      "metadata": {
        "colab": {
          "base_uri": "https://localhost:8080/"
        },
        "id": "4SfINrn9VV_u",
        "outputId": "88837af3-4622-434f-fbc3-f6db87bfb3d4"
      },
      "execution_count": null,
      "outputs": [
        {
          "output_type": "stream",
          "name": "stdout",
          "text": [
            "[[0.03517548]\n",
            " [0.41092642]]\n"
          ]
        }
      ]
    },
    {
      "cell_type": "code",
      "source": [
        "# 14. 결과 가시화\n",
        "#(X,Y)의 데이터와 Y = theta_0 + X*theta_1을 그려봄.\n",
        "\n",
        "Y_pred = xb.dot(theta)\n",
        "plt.plot(X, Y_pred, color = 'Red')\n",
        "plt.plot(X, Y, '.b')"
      ],
      "metadata": {
        "id": "44MsyG23Vbwd",
        "colab": {
          "base_uri": "https://localhost:8080/",
          "height": 449
        },
        "outputId": "7726a992-47f8-4ba8-86e7-89198a9a9d8e"
      },
      "execution_count": null,
      "outputs": [
        {
          "output_type": "execute_result",
          "data": {
            "text/plain": [
              "[<matplotlib.lines.Line2D at 0x7fdd7149f4c0>]"
            ]
          },
          "metadata": {},
          "execution_count": 4
        },
        {
          "output_type": "display_data",
          "data": {
            "text/plain": [
              "<Figure size 640x480 with 1 Axes>"
            ],
            "image/png": "[encoded data removed]"
          },
          "metadata": {}
        }
      ]
    }
  ]
}