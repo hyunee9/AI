{
  "nbformat": 4,
  "nbformat_minor": 0,
  "metadata": {
    "colab": {
      "provenance": [],
      "authorship_tag": "ABX9TyNuBdhrmny4rWGJ30QPsHnM",
      "include_colab_link": true
    },
    "kernelspec": {
      "name": "python3",
      "display_name": "Python 3"
    },
    "language_info": {
      "name": "python"
    }
  },
  "cells": [
    {
      "cell_type": "markdown",
      "metadata": {
        "id": "view-in-github",
        "colab_type": "text"
      },
      "source": [
        "<a href=\"https://colab.research.google.com/github/hyunee9/AI/blob/main/%EC%9D%B8%EA%B3%B5%EC%8B%A0%EA%B2%BD%EB%A7%9D_MLP_.ipynb\" target=\"_parent\"><img src=\"https://colab.research.google.com/assets/colab-badge.svg\" alt=\"Open In Colab\"/></a>"
      ]
    },
    {
      "cell_type": "markdown",
      "source": [
        "MLP를 MNIST dataset을 이용해서 훈련시킨다.\n",
        "MNIST dataset : 미국 표준 연구소에서 만든 데이터셋.\n",
        "손으로 쓴 숫자 이미지를 저장하고 있음.\n",
        "28x28, 흑백 이미지.\n",
        "\n",
        "(이미지, 레이블)의 쌍. pytorch에서 제공함.\n",
        "이미지를 읽어서 이미지가 어떤 숫자인지 인식하는 MLP를 설계하고 훈련."
      ],
      "metadata": {
        "id": "DxH6dlBErrBG"
      }
    },
    {
      "cell_type": "markdown",
      "source": [
        "# 1. import library"
      ],
      "metadata": {
        "id": "nTxwBZIasPyu"
      }
    },
    {
      "cell_type": "code",
      "source": [
        "# 1. numpy\n",
        "import numpy as np\n",
        "# 2. pytorch\n",
        "import torch\n",
        "import torch.nn as nn # neural network\n",
        "import torch.optim as optim #gradient descent method를 구현\n",
        "import torchvision.datasets as dset #pytorch에서 제공하는 dataset -> MNIST\n",
        "import torchvision.transforms as transforms #data를 훈련하기 위해서 관리하는 libraray\n",
        "from torch.utils.data import DataLoader # 데이터를 읽어들이는 library\n",
        "from torch.autograd import Variable # numpy의 배열을 pytorch의 변수로 변환 -> 자동 미분하려고\n",
        "\n",
        "\n",
        "# 3. matplotlib\n",
        "import matplotlib.pyplot as plt\n",
        "%matplotlib inline"
      ],
      "metadata": {
        "id": "7JFTX140sp2F"
      },
      "execution_count": null,
      "outputs": []
    },
    {
      "cell_type": "markdown",
      "source": [
        "# 2. MLP구현 = 모델 설계"
      ],
      "metadata": {
        "id": "gUzKEIlxsV8H"
      }
    },
    {
      "cell_type": "code",
      "source": [
        "# n_input : 28 x 28 = 784\n",
        "# 1st hidden : 256\n",
        "# 2nd hidden : 128\n",
        "# n_output : 10\n",
        "model = nn.Sequential(\n",
        "    nn.Linear (784, 256), #784를 받아서 256을 뽑음. input -> 1st hidden\n",
        "    nn.Sigmoid(), #activation function\n",
        "    nn.Linear (256, 128), #1st hidden -> 2nd hidden\n",
        "    nn.Linear (128, 10), #2nd -> output\n",
        ")\n"
      ],
      "metadata": {
        "id": "oHvGo78ewlsG"
      },
      "execution_count": null,
      "outputs": []
    },
    {
      "cell_type": "markdown",
      "source": [
        "# 3. 데이터 로딩 (MNIST)"
      ],
      "metadata": {
        "id": "M4m-h3SbsYkH"
      }
    },
    {
      "cell_type": "code",
      "source": [
        "# MNISt dataset = train set + test set\n",
        "mnist_train = dset.MNIST(\"\", train = True, transform = transforms. ToTensor(),\n",
        "                         target_transform = None, download = True)\n",
        "\n",
        "mnist_test = dset.MNIST(\"\", train = False, transform = transforms.ToTensor(),\n",
        "                       target_transform = None, download = True)\n",
        "#transform : 들어오는 데이터를 어떤 형태로 바꿀 것인지\n"
      ],
      "metadata": {
        "id": "OkAmnz4SDVhu"
      },
      "execution_count": null,
      "outputs": []
    },
    {
      "cell_type": "markdown",
      "source": [
        "## 3.1 data 확인"
      ],
      "metadata": {
        "id": "sB-p8vQlEhk3"
      }
    },
    {
      "cell_type": "code",
      "source": [
        "#download받은 data의 크기는?\n",
        "print(\"mnist_train의 길이:\", len(mnist_train))\n",
        "print(\"mnist_test의 길이: \", len(mnist_test))\n",
        "\n",
        "#하나의 데이터는 어떤 모양?\n",
        "image, label = mnist_train.__getitem__ (10000)\n",
        "print(\"image의 크기: \", image.size()) #이미지 한장 한장은 tensor가 됨. (위에서 ToTensor)\n",
        "print(\"label: \", label)\n",
        "\n",
        "#이미지를 그려보기 -> 그리기는 mayplotlib을 사용할 건데\n",
        "# matplotlib의 입력은 numpy array만 가능함. 그래서 이미지를 넘파이에서 쓸 수 있는 형태로 바꿔줌\n",
        "img = image.numpy () #pytorch의 Tensor를 numpy의 ndarray로 변환\n",
        "print(image.type())\n",
        "plt.title(\"label: %d\" %label)\n",
        "plt.imshow(img[0], cmap = 'gray')\n",
        "plt.show()"
      ],
      "metadata": {
        "colab": {
          "base_uri": "https://localhost:8080/",
          "height": 545
        },
        "id": "Vs9hR3cpEkDw",
        "outputId": "7d976dbe-9919-4769-dc99-7f57943c048e"
      },
      "execution_count": null,
      "outputs": [
        {
          "output_type": "stream",
          "name": "stdout",
          "text": [
            "mnist_train의 길이: 60000\n",
            "mnist_test의 길이:  10000\n",
            "image의 크기:  torch.Size([1, 28, 28])\n",
            "label:  3\n",
            "torch.FloatTensor\n"
          ]
        },
        {
          "output_type": "display_data",
          "data": {
            "text/plain": [
              "<Figure size 640x480 with 1 Axes>"
            ],
            "image/png": "[encoded data removed]"
          },
          "metadata": {}
        }
      ]
    },
    {
      "cell_type": "markdown",
      "source": [
        "# 4. 초기 설정"
      ],
      "metadata": {
        "id": "uifd7y5Ksb3A"
      }
    },
    {
      "cell_type": "markdown",
      "source": [
        "## 4.1 hyperparameter 설정"
      ],
      "metadata": {
        "id": "zpXAcFOvGNmJ"
      }
    },
    {
      "cell_type": "code",
      "source": [
        "# batch_size : 한 번에 훈련할 데이터의 양\n",
        "batch_size = 1024\n",
        "#learning rate : 학습률 - 작을수록 안정적인지만 느리다\n",
        "learning_rate = 0.001\n",
        "#epoch : 몇 번이나 훈련 시킬지\n",
        "num_epoch = 500"
      ],
      "metadata": {
        "id": "hQvFehFAGhkM"
      },
      "execution_count": null,
      "outputs": []
    },
    {
      "cell_type": "markdown",
      "source": [
        "## 4.2 dataloader 설정\n",
        "어떻게 데이터를 mnist 데이터의 train, test를 잘라서 사용할건지"
      ],
      "metadata": {
        "id": "6SamVZHHGR68"
      }
    },
    {
      "cell_type": "code",
      "source": [
        "train_loader = torch.utils.data.DataLoader (mnist_train,\n",
        "                                            batch_size = batch_size,\n",
        "                                            shuffle = True, # 섞어서 넣음\n",
        "                                            num_workers = 2,\n",
        "  #실제 데이터를 넣고 있는 동안에 넣지 않은 데이터에 대해서 미리 자르고 있을지.\n",
        "  #그렇다면 몇 개씩 자를지\n",
        "                                            drop_last = True\n",
        "  #남는 데이터는 버려주세요\n",
        "                                            )\n",
        "test_loader = torch.utils.data.DataLoader(mnist_test,\n",
        "                                          batch_size = batch_size,\n",
        "                                          shuffle = False, #테스트니까 안해도 됨.\n",
        "                                          num_workers = 2,\n",
        "                                          drop_last = True)"
      ],
      "metadata": {
        "id": "LCzrJkO5HA06"
      },
      "execution_count": null,
      "outputs": []
    },
    {
      "cell_type": "markdown",
      "source": [
        "## 4.3 loss함수와 optimizer를 설정"
      ],
      "metadata": {
        "id": "CKQXjJmmGdXq"
      }
    },
    {
      "cell_type": "code",
      "source": [
        "#loss function을 criterion 이라고 많이 쓴다.\n",
        "#회귀 : mean square, 분류 : cross entropy를 씀\n",
        "\n",
        "criterion = nn.CrossEntropyLoss()\n",
        "optimizer = optim.SGD(model.parameters(), lr = learning_rate)"
      ],
      "metadata": {
        "id": "qaalB_wqHAUx"
      },
      "execution_count": null,
      "outputs": []
    },
    {
      "cell_type": "markdown",
      "source": [
        "# 5. 훈련"
      ],
      "metadata": {
        "id": "5kGweFvosd2Z"
      }
    },
    {
      "cell_type": "markdown",
      "source": [
        "## 5.1 Accuracy 측정 함수 정의"
      ],
      "metadata": {
        "id": "T_DzOH69Iqf6"
      }
    },
    {
      "cell_type": "code",
      "source": [
        "# accuracy = 맞는 답의 수(correct) / 전체 답의 수(total)\n",
        "def ComputeAccuracy (dloader, imodel):\n",
        "  #전체 답의 수, 맞는 답의 수\n",
        "  total = 0\n",
        "  correct = 0\n",
        "\n",
        "  #dloader를 이용해서 data를 불러오는 과정을 수행\n",
        "  for j, [imgs, labels] in enumerate(dloader):  #batch_size개 만큼의 [img, label]을 읽어 옴\n",
        "      img = imgs\n",
        "      # print(len(img))\n",
        "      label = Variable(labels) #pytorch variable로 바꿔줌\n",
        "      img = Variable(img, requires_grad = False) #훈련 과정이기 때문에 미분하지 않음.\n",
        "\n",
        "      #img data는 1024 x 1 x 28 x 28\n",
        "      #model의 입력은 1024 x 28 x 28 (둘의 차원이 다름)\n",
        "      #문제를 해결하기 위해서는 주워진 데이터가 차원이 맞도록 조정해줘야함\n",
        "      #reshape이용\n",
        "      #model의 입력은 1024 x 784 (28 x 28)였음. 한 번 더 변환 필요\n",
        "\n",
        "      #print(img.shape)\n",
        "      img = img.reshape((img.shape[0], img.shape[2], img.shape[3]))\n",
        "      #print(img.shape)\n",
        "      img = img.reshape((img.shape[0], img.shape[1] * img.shape[2]))\n",
        "      #print(img.shape)\n",
        "      #출력 생성\n",
        "      output = imodel (img) #output : 10개의 확률. i번째 확률은 label이 i일 확률 -> argmax 해서 가장 큰 인덱스를 찾는다.\n",
        "      _, output_index = torch.max(output, 1)\n",
        "      total += label.size(0) #전체 데이터의 갯수는 레이블 사이즈 만큼 증가\n",
        "      correct += (output_index == label).sum().float() #읽어들인 것들 중에 가장 큰 값의 인덱스가 현재 레이블과 같은 것들을 다 더해야 함\n",
        "\n",
        "  print(\"Accuracy : {}\".format(100 * correct/total))\n",
        "\n",
        "\n",
        "\n",
        "\n"
      ],
      "metadata": {
        "id": "Wf5ry--CItoA"
      },
      "execution_count": null,
      "outputs": []
    },
    {
      "cell_type": "code",
      "source": [
        "ComputeAccuracy(test_loader, model)"
      ],
      "metadata": {
        "colab": {
          "base_uri": "https://localhost:8080/"
        },
        "id": "0VyPp0e5I2fN",
        "outputId": "6969a9d1-9990-4113-db80-21484e6c9165"
      },
      "execution_count": null,
      "outputs": [
        {
          "output_type": "stream",
          "name": "stdout",
          "text": [
            "Accuracy : 10.199652671813965\n"
          ]
        }
      ]
    },
    {
      "cell_type": "markdown",
      "source": [
        "# 6. 실행 (테스트)"
      ],
      "metadata": {
        "id": "bqocTMezsfu-"
      }
    },
    {
      "cell_type": "code",
      "source": [
        "loss_arr = []\n",
        "for i in range(num_epoch):\n",
        "  for j, [imgs, labels] in enumerate(train_loader):\n",
        "    img = imgs\n",
        "    label = Variable(labels)\n",
        "\n",
        "    #1024 x 1 x 28 x 28 -> 1024 x 28 x 28\n",
        "    img = img.reshape(img.shape[0], img.shape[2], img.shape[3])\n",
        "    #1024 x 28x 28 -> 1024 x 784\n",
        "    img = img.reshape((img.shape[0], img.shape[1] * img.shape[2]))\n",
        "    img = Variable(img, requires_grad = True)\n",
        "\n",
        "    optimizer.zero_grad()\n",
        "    output = model(img)\n",
        "    loss = criterion (output, label)\n",
        "\n",
        "    loss.backward() #gradient 구하기\n",
        "    optimizer.step() #gradient descent 구하기\n",
        "    loss_arr.append(loss)\n",
        "\n",
        "if (i%5 == 0):\n",
        "  print(\"%d..\" %i)\n",
        "  ComputeAccuracy(test_loader, model)\n",
        "  print(loss)"
      ],
      "metadata": {
        "id": "SAWqoZmSP_g7"
      },
      "execution_count": null,
      "outputs": []
    }
  ]
}